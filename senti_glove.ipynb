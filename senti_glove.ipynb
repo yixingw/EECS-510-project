{
 "cells": [
  {
   "cell_type": "code",
   "execution_count": 212,
   "metadata": {},
   "outputs": [],
   "source": [
    "import keras\n",
    "import time\n",
    "import os\n",
    "import gc\n",
    "import pandas as pd\n",
    "import numpy as np\n",
    "import nltk\n",
    "from nltk.corpus import stopwords\n",
    "from nltk.tokenize import word_tokenize\n",
    "from nltk.stem import WordNetLemmatizer\n",
    "from sklearn.feature_extraction.text import TfidfVectorizer\n",
    "from sklearn.model_selection import train_test_split\n",
    "from keras import optimizers\n",
    "from keras.models import Sequential\n",
    "from keras.layers import Dense, LSTM, Bidirectional\n",
    "from keras.utils import np_utils"
   ]
  },
  {
   "cell_type": "code",
   "execution_count": 85,
   "metadata": {},
   "outputs": [],
   "source": [
    "def clean_str(string):  \n",
    "    \"\"\" \n",
    "    Tokenization/string cleaning for dataset \n",
    "    Every dataset is lower cased except \n",
    "    \"\"\"  \n",
    "    sens = word_tokenize(string.lower())\n",
    "    sens = [word for word in sens if not word in english_stopwords]\n",
    "    sens = [word for word in sens if not word in english_punctuations]\n",
    "    sens = [lemmatizer.lemmatize(word) for word in sens]\n",
    "    sens = [word for word in sens if word.isalpha()]\n",
    "    sens = ' '.join(sens)\n",
    "    return sens\n",
    "  "
   ]
  },
  {
   "cell_type": "code",
   "execution_count": 4,
   "metadata": {
    "collapsed": true
   },
   "outputs": [],
   "source": [
    "df = pd.read_csv('../data/Tweets.csv')"
   ]
  },
  {
   "cell_type": "code",
   "execution_count": 145,
   "metadata": {},
   "outputs": [],
   "source": [
    "X = df['text']\n",
    "y = df['airline_sentiment']\n",
    "y.replace({'neutral':'0', 'positive':'1', 'negative':'-1'}, inplace = True)"
   ]
  },
  {
   "cell_type": "code",
   "execution_count": 182,
   "metadata": {},
   "outputs": [],
   "source": [
    "# preprocssing, stopwords and rare words, tokenization and vectorizing\n",
    "lemmatizer=WordNetLemmatizer()\n",
    "english_stopwords = stopwords.words('english')\n",
    "english_punctuations = [',', '.','\\'s', ':', ';', '?', '(', ')', '[', ']', '&', '!', '*', '@', '#', '$', '%']\n",
    "X = X.apply(clean_str)\n",
    "\n",
    "# vectorizing using tfidf\n",
    "vectorizer = TfidfVectorizer(ngram_range = (1,2), max_features = 2000)\n",
    "X_tfidf = vectorizer.fit_transform(X)"
   ]
  },
  {
   "cell_type": "code",
   "execution_count": 178,
   "metadata": {
    "collapsed": true
   },
   "outputs": [],
   "source": [
    "a = ['asshole','b','c','d']\n",
    "b = ['a','curvy','e']\n",
    "k = vectorizer.fit_transform()"
   ]
  },
  {
   "cell_type": "code",
   "execution_count": 202,
   "metadata": {},
   "outputs": [],
   "source": [
    "X_train, X_test, y_train, y_test = train_test_split(X_tfidf,y,test_size = 0.2, random_state = 517)\n",
    "X_train = X_train.toarray()\n",
    "X_train = np.reshape(X_train,(X_train.shape[0], 1, 2000))\n",
    "X_test = X_test.toarray()\n",
    "X_test = np.reshape(X_test, (X_test.shape[0], 1, 2000))\n",
    "\n",
    "y_train = np_utils.to_categorical(y_train, num_classes=3)\n",
    "y_test = np_utils.to_categorical(y_test, num_classes=3)"
   ]
  },
  {
   "cell_type": "code",
   "execution_count": 197,
   "metadata": {},
   "outputs": [
    {
     "data": {
      "text/plain": [
       "(11712, 1, 2000)"
      ]
     },
     "execution_count": 197,
     "metadata": {},
     "output_type": "execute_result"
    }
   ],
   "source": [
    "X_train.shape"
   ]
  },
  {
   "cell_type": "code",
   "execution_count": 209,
   "metadata": {},
   "outputs": [
    {
     "name": "stdout",
     "output_type": "stream",
     "text": [
      "_________________________________________________________________\n",
      "Layer (type)                 Output Shape              Param #   \n",
      "=================================================================\n",
      "bidirectional_18 (Bidirectio (None, 200)               1680800   \n",
      "_________________________________________________________________\n",
      "dense_29 (Dense)             (None, 100)               20100     \n",
      "_________________________________________________________________\n",
      "dense_30 (Dense)             (None, 3)                 303       \n",
      "=================================================================\n",
      "Total params: 1,701,203\n",
      "Trainable params: 1,701,203\n",
      "Non-trainable params: 0\n",
      "_________________________________________________________________\n"
     ]
    }
   ],
   "source": [
    "bi_lstm = Sequential()\n",
    "bi_lstm.add(Bidirectional(LSTM(100 , return_sequences=False), input_shape = (1, 2000)))\n",
    "bi_lstm.add(Dense(100, activation = 'tanh'))\n",
    "bi_lstm.add(Dense(3,activation = 'softmax'))\n",
    "bi_lstm.summary()"
   ]
  },
  {
   "cell_type": "code",
   "execution_count": 213,
   "metadata": {
    "scrolled": true
   },
   "outputs": [
    {
     "name": "stdout",
     "output_type": "stream",
     "text": [
      "Epoch 1/50\n",
      " - 35s - loss: 0.6065 - acc: 0.7539\n",
      "Epoch 2/50\n",
      " - 33s - loss: 0.4390 - acc: 0.8212\n",
      "Epoch 3/50\n",
      " - 33s - loss: 0.3212 - acc: 0.8667\n",
      "Epoch 4/50\n",
      " - 32s - loss: 0.1713 - acc: 0.9352\n",
      "Epoch 5/50\n",
      " - 32s - loss: 0.0724 - acc: 0.9728\n",
      "Epoch 6/50\n",
      " - 33s - loss: 0.0473 - acc: 0.9825\n",
      "Epoch 7/50\n",
      " - 32s - loss: 0.0362 - acc: 0.9860\n",
      "Epoch 8/50\n",
      " - 32s - loss: 0.0306 - acc: 0.9879\n",
      "Epoch 9/50\n",
      " - 33s - loss: 0.0327 - acc: 0.9877\n",
      "Epoch 10/50\n",
      " - 33s - loss: 0.0311 - acc: 0.9881\n",
      "Epoch 11/50\n",
      " - 35s - loss: 0.0298 - acc: 0.9886\n",
      "Epoch 12/50\n",
      " - 35s - loss: 0.0306 - acc: 0.9882\n",
      "Epoch 13/50\n",
      " - 39s - loss: 0.0307 - acc: 0.9882\n",
      "Epoch 14/50\n",
      " - 36s - loss: 0.0265 - acc: 0.9895\n",
      "Epoch 15/50\n",
      " - 35s - loss: 0.0281 - acc: 0.9884\n",
      "Epoch 16/50\n",
      " - 37s - loss: 0.0307 - acc: 0.9885\n",
      "Epoch 17/50\n",
      " - 35s - loss: 0.0269 - acc: 0.9899\n",
      "Epoch 18/50\n",
      " - 36s - loss: 0.0265 - acc: 0.9887\n",
      "Epoch 19/50\n",
      " - 34s - loss: 0.0258 - acc: 0.9898\n",
      "Epoch 20/50\n",
      " - 34s - loss: 0.0279 - acc: 0.9886\n",
      "Epoch 21/50\n",
      " - 35s - loss: 0.0270 - acc: 0.9889\n",
      "Epoch 22/50\n",
      " - 38s - loss: 0.0252 - acc: 0.9902\n",
      "Epoch 23/50\n",
      " - 36s - loss: 0.0253 - acc: 0.9901\n",
      "Epoch 24/50\n",
      " - 35s - loss: 0.0252 - acc: 0.9899\n",
      "Epoch 25/50\n",
      " - 34s - loss: 0.0248 - acc: 0.9904\n",
      "Epoch 26/50\n",
      " - 33s - loss: 0.0280 - acc: 0.9892\n",
      "Epoch 27/50\n",
      " - 33s - loss: 0.0251 - acc: 0.9903\n",
      "Epoch 28/50\n",
      " - 33s - loss: 0.0222 - acc: 0.9904\n",
      "Epoch 29/50\n",
      " - 34s - loss: 0.0255 - acc: 0.9900\n",
      "Epoch 30/50\n",
      " - 34s - loss: 0.0240 - acc: 0.9897\n",
      "Epoch 31/50\n",
      " - 33s - loss: 0.0244 - acc: 0.9896\n",
      "Epoch 32/50\n",
      " - 36s - loss: 0.0243 - acc: 0.9898\n",
      "Epoch 33/50\n",
      " - 34s - loss: 0.0235 - acc: 0.9898\n",
      "Epoch 34/50\n",
      " - 33s - loss: 0.0239 - acc: 0.9899\n",
      "Epoch 35/50\n",
      " - 35s - loss: 0.0228 - acc: 0.9901\n",
      "Epoch 36/50\n",
      " - 33s - loss: 0.0257 - acc: 0.9889\n",
      "Epoch 37/50\n",
      " - 34s - loss: 0.0258 - acc: 0.9891\n",
      "Epoch 38/50\n",
      " - 33s - loss: 0.0232 - acc: 0.9900\n",
      "Epoch 39/50\n",
      " - 37s - loss: 0.0224 - acc: 0.9902\n",
      "Epoch 40/50\n",
      " - 36s - loss: 0.0233 - acc: 0.9901\n",
      "Epoch 41/50\n",
      " - 35s - loss: 0.0220 - acc: 0.9898\n",
      "Epoch 42/50\n",
      " - 34s - loss: 0.0235 - acc: 0.9901\n",
      "Epoch 43/50\n",
      " - 37s - loss: 0.0231 - acc: 0.9907\n",
      "Epoch 44/50\n",
      " - 34s - loss: 0.0249 - acc: 0.9894\n",
      "Epoch 45/50\n",
      " - 36s - loss: 0.0246 - acc: 0.9895\n",
      "Epoch 46/50\n",
      " - 34s - loss: 0.0253 - acc: 0.9894\n",
      "Epoch 47/50\n",
      " - 36s - loss: 0.0248 - acc: 0.9902\n",
      "Epoch 48/50\n",
      " - 36s - loss: 0.0219 - acc: 0.9907\n",
      "Epoch 49/50\n",
      " - 36s - loss: 0.0220 - acc: 0.9896\n",
      "Epoch 50/50\n",
      " - 39s - loss: 0.0234 - acc: 0.9892\n"
     ]
    },
    {
     "data": {
      "text/plain": [
       "<keras.callbacks.History at 0x24f87013e10>"
      ]
     },
     "execution_count": 213,
     "metadata": {},
     "output_type": "execute_result"
    }
   ],
   "source": [
    "bi_lstm.compile(loss='categorical_crossentropy', optimizer=optimizers.Adam(lr = 0.01), metrics=['accuracy'])\n",
    "bi_lstm.fit(X_train, y_train, epochs=50, batch_size=16, verbose=2)"
   ]
  },
  {
   "cell_type": "code",
   "execution_count": 207,
   "metadata": {},
   "outputs": [
    {
     "name": "stdout",
     "output_type": "stream",
     "text": [
      "2928/2928 [==============================] - 2s 539us/step\n"
     ]
    },
    {
     "data": {
      "text/plain": [
       "[0.89473610595275799, 0.74180327868852458]"
      ]
     },
     "execution_count": 207,
     "metadata": {},
     "output_type": "execute_result"
    }
   ],
   "source": [
    "bi_lstm.evaluate(X_test, y_test)"
   ]
  },
  {
   "cell_type": "code",
   "execution_count": 208,
   "metadata": {},
   "outputs": [
    {
     "data": {
      "text/plain": [
       "['loss', 'acc']"
      ]
     },
     "execution_count": 208,
     "metadata": {},
     "output_type": "execute_result"
    }
   ],
   "source": [
    "bi_lstm.metrics_names"
   ]
  },
  {
   "cell_type": "code",
   "execution_count": null,
   "metadata": {
    "collapsed": true
   },
   "outputs": [],
   "source": []
  }
 ],
 "metadata": {
  "kernelspec": {
   "display_name": "Python 3",
   "language": "python",
   "name": "python3"
  },
  "language_info": {
   "codemirror_mode": {
    "name": "ipython",
    "version": 3
   },
   "file_extension": ".py",
   "mimetype": "text/x-python",
   "name": "python",
   "nbconvert_exporter": "python",
   "pygments_lexer": "ipython3",
   "version": "3.6.1"
  }
 },
 "nbformat": 4,
 "nbformat_minor": 2
}
